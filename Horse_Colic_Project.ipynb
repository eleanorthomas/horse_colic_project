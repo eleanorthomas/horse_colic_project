{
 "cells": [
  {
   "cell_type": "markdown",
   "metadata": {
    "collapsed": true
   },
   "source": [
    "# Horse Colic Dataset investigation\n",
    "\n",
    "## Introduction to the Dataset\n",
    "\n",
    "The dataset used for this investigation is the Horse Colic dataset from UC Irvine. "
   ]
  },
  {
   "cell_type": "code",
   "execution_count": null,
   "metadata": {
    "collapsed": true
   },
   "outputs": [],
   "source": [
    "import matplotlib.pyplot as plt\n",
    "import numpy as np\n",
    "import pandas as pd"
   ]
  },
  {
   "cell_type": "markdown",
   "metadata": {},
   "source": [
    "## Business Questions\n",
    "\n",
    "The following questions will be explored via the UC Irvine Horse Colic dataset. Each of these questions is relevant from an exploratory data analysis perspective when seeking to make predictions and decisions about a horse's prognosis and treatment in various colic cases. This topic is of interest and importance to horse owners, trainers, barn managers and veterinarians.\n",
    "\n",
    "1. What characteristics are most associated with cases in which the colic needed surgery to be treated?\n",
    "2. What characteristics of the horse's condition were most associated with a \"lived\" outcome (as opposed to \"died\" or \"was euthanized\")?\n",
    "3. What were some of the ranges of the various health indicator parameters commonly measured by horse owners (such as rectal temperature, heart rate, respiratory rate, capillary refill time, mucous membranes and pain level)?\n"
   ]
  },
  {
   "cell_type": "markdown",
   "metadata": {},
   "source": [
    "## Gather\n",
    "\n",
    "The first step in the CRISP-DM Data Science process is \"Gather\", so we gather the dataset from UC Irvine by loading it into the notebook."
   ]
  },
  {
   "cell_type": "code",
   "execution_count": null,
   "metadata": {
    "collapsed": true
   },
   "outputs": [],
   "source": [
    "# TODO: Load in dataset\n",
    "\n",
    "# horse_data = pd.read_csv()"
   ]
  },
  {
   "cell_type": "markdown",
   "metadata": {},
   "source": [
    "## Assess\n",
    "\n",
    "The next step in the Data Science process is \"Assess\", so we examine the loaded data to identify categorical features, and missing values."
   ]
  },
  {
   "cell_type": "code",
   "execution_count": null,
   "metadata": {
    "collapsed": true
   },
   "outputs": [],
   "source": [
    "# TODO: That"
   ]
  },
  {
   "cell_type": "markdown",
   "metadata": {},
   "source": [
    "## Clean\n",
    "\n",
    "The third step in this process is to \"Clean\", at which point we will handle categorical features and missing values."
   ]
  },
  {
   "cell_type": "code",
   "execution_count": null,
   "metadata": {
    "collapsed": true
   },
   "outputs": [],
   "source": [
    "# TODO: That"
   ]
  },
  {
   "cell_type": "markdown",
   "metadata": {},
   "source": [
    "## Analyze\n",
    "\n",
    "Next, we will begin to answer the business questions outlined above, by analyzing the cleaned dataset and identifying the relevant features for answering each business question.\n",
    "\n",
    "### Question 1: What characteristics are most associated with cases in which the colic needed surgery to be treated?\n",
    "\n",
    "For this question, the relevant features to consider are:\n"
   ]
  },
  {
   "cell_type": "code",
   "execution_count": null,
   "metadata": {
    "collapsed": true
   },
   "outputs": [],
   "source": [
    "# TODO: That"
   ]
  },
  {
   "cell_type": "markdown",
   "metadata": {},
   "source": [
    "### Question 2: What characteristics of the horse's condition were most associated with a \"lived\" outcome (as opposed to \"died\" or \"was euthanized\")?\n",
    "\n",
    "For this question, we need to consider the following features:\n"
   ]
  },
  {
   "cell_type": "code",
   "execution_count": null,
   "metadata": {
    "collapsed": true
   },
   "outputs": [],
   "source": [
    "# TODO: That"
   ]
  },
  {
   "cell_type": "markdown",
   "metadata": {},
   "source": [
    "### Question 3: What were some of the ranges of the various health indicator parameters commonly measured by horse owners (such as rectal temperature, heart rate, respiratory rate, capillary refill time, mucous membranes and pain level)?\n",
    "\n",
    "For this question, the features we need to consider are:\n",
    "\n"
   ]
  },
  {
   "cell_type": "code",
   "execution_count": null,
   "metadata": {
    "collapsed": true
   },
   "outputs": [],
   "source": [
    "# TODO: That"
   ]
  },
  {
   "cell_type": "markdown",
   "metadata": {},
   "source": [
    "## Model\n",
    "\n",
    "For the \"Model\" step of the CRISP-DM process, we examine each business question individually and select the appropriate model for answering the question.\n",
    "\n",
    "### Question 1: Surgery\n",
    "\n",
    "To answer this question, we can perform a classification based on the features identified in the \"Analyze\" step and the target feature (whether or not the horse required surgery)."
   ]
  },
  {
   "cell_type": "code",
   "execution_count": null,
   "metadata": {
    "collapsed": true
   },
   "outputs": [],
   "source": [
    "# TODO: That"
   ]
  },
  {
   "cell_type": "markdown",
   "metadata": {},
   "source": [
    "### Question 2: Life or Death\n",
    "\n",
    "To answer this question, we can again perform a classification based on the features identified in the \"Analyze\" step and the target feature, this time considering two categories (\"Died\" and \"Was Euthanized\") as equivalent, since for the purposes of this question, they are."
   ]
  },
  {
   "cell_type": "code",
   "execution_count": null,
   "metadata": {
    "collapsed": true
   },
   "outputs": [],
   "source": [
    "# TODO: That"
   ]
  },
  {
   "cell_type": "markdown",
   "metadata": {},
   "source": [
    "### Question 3: Health Parameters\n",
    "\n",
    "Many horse owners, trainers, barn managers and veterinarians check a particular subset of health parameters for horses, which can indicate colic or other health conditions. It is useful to know what the ranges for these health parameters were in the dataset for colic cases, since these can be compared to healthy ranges, which are pretty well established in the literature."
   ]
  },
  {
   "cell_type": "code",
   "execution_count": null,
   "metadata": {
    "collapsed": true
   },
   "outputs": [],
   "source": [
    "# TODO: That"
   ]
  },
  {
   "cell_type": "markdown",
   "metadata": {},
   "source": [
    "## Visualize\n",
    "\n",
    "For the final step of this data science project, we will examine visualizations for each of the business questions.\n",
    "\n",
    "### Question 1: Surgery\n",
    "\n",
    "The following visualization of the model generated above shows the relationship between a variety of parameters and the resolution (surgical or medical) of the colic case."
   ]
  },
  {
   "cell_type": "code",
   "execution_count": null,
   "metadata": {
    "collapsed": true
   },
   "outputs": [],
   "source": [
    "# TODO: That"
   ]
  },
  {
   "cell_type": "markdown",
   "metadata": {},
   "source": [
    "## Question 2: Life or Death\n",
    "\n",
    "The following is a visualization showing the relationship between various parameters and the outcome of the colic case (\"Lived\" or \"Died\"/\"Was Euthanized\")."
   ]
  },
  {
   "cell_type": "code",
   "execution_count": null,
   "metadata": {
    "collapsed": true
   },
   "outputs": [],
   "source": [
    "# TODO: That"
   ]
  },
  {
   "cell_type": "markdown",
   "metadata": {},
   "source": [
    "## Question 3: Health Parameters\n",
    "\n",
    "Finally, we include a visualization of the ranges of the various health parameters commonly checked by horse owners and others who come into regular contact with horses."
   ]
  },
  {
   "cell_type": "code",
   "execution_count": null,
   "metadata": {
    "collapsed": true
   },
   "outputs": [],
   "source": [
    "# TODO: That"
   ]
  }
 ],
 "metadata": {
  "anaconda-cloud": {},
  "kernelspec": {
   "display_name": "Python [default]",
   "language": "python",
   "name": "python3"
  },
  "language_info": {
   "codemirror_mode": {
    "name": "ipython",
    "version": 3
   },
   "file_extension": ".py",
   "mimetype": "text/x-python",
   "name": "python",
   "nbconvert_exporter": "python",
   "pygments_lexer": "ipython3",
   "version": "3.5.2"
  }
 },
 "nbformat": 4,
 "nbformat_minor": 2
}
