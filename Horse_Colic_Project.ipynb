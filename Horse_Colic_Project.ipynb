{
 "cells": [
  {
   "cell_type": "markdown",
   "metadata": {
    "collapsed": true
   },
   "source": [
    "# Horse Colic Dataset investigation\n",
    "\n",
    "## Introduction to the Dataset\n",
    "\n",
    "The dataset used for this investigation is the Horse Colic dataset from UC Irvine. "
   ]
  },
  {
   "cell_type": "markdown",
   "metadata": {},
   "source": [
    "## TODO:\n",
    "- Clean, prepare dataset and handle categorical features and missing values\n",
    "- Answer the various questions\n",
    "- Follow CRISP-DM (model after mini project from lesson), label steps: gather, assess, clean, analyze, model, visualize"
   ]
  },
  {
   "cell_type": "code",
   "execution_count": null,
   "metadata": {
    "collapsed": true
   },
   "outputs": [],
   "source": [
    "import matplotlib.pyplot as plt\n",
    "import numpy as np\n",
    "import pandas as pd"
   ]
  },
  {
   "cell_type": "markdown",
   "metadata": {},
   "source": [
    "## Business Questions\n",
    "\n",
    "The following questions will be explored via the UC Irvine Horse Colic dataset. Each of these questions is relevant from an exploratory data analysis perspective when seeking to make predictions and decisions about a horse's prognosis and treatment in various colic cases. This topic is of interest and importance to horse owners, trainers, barn managers and veterinarians.\n",
    "\n",
    "1. What characteristics are most associated with cases in which the colic needed surgery to be treated?\n",
    "2. What characteristics of the horse's condition were most associated with a \"lived\" outcome (as opposed to \"died\" or \"was euthanized\")?\n",
    "3. What were some of the ranges of the various health indicator parameters commonly measured by horse owners (such as rectal temperature, heart rate, respiratory rate, capillary refill time, mucous membranes and pain level)?\n"
   ]
  },
  {
   "cell_type": "code",
   "execution_count": null,
   "metadata": {
    "collapsed": true
   },
   "outputs": [],
   "source": []
  }
 ],
 "metadata": {
  "anaconda-cloud": {},
  "kernelspec": {
   "display_name": "Python [default]",
   "language": "python",
   "name": "python3"
  },
  "language_info": {
   "codemirror_mode": {
    "name": "ipython",
    "version": 3
   },
   "file_extension": ".py",
   "mimetype": "text/x-python",
   "name": "python",
   "nbconvert_exporter": "python",
   "pygments_lexer": "ipython3",
   "version": "3.5.2"
  }
 },
 "nbformat": 4,
 "nbformat_minor": 2
}
